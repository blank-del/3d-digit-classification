{
  "cells": [
    {
      "cell_type": "code",
      "execution_count": 1,
      "metadata": {
        "id": "dQHGeEI9-ZMT"
      },
      "outputs": [],
      "source": [
        "import numpy as np\n",
        "import tensorflow as tf\n",
        "from sklearn.model_selection import KFold, StratifiedKFold\n",
        "from sklearn.metrics import confusion_matrix, ConfusionMatrixDisplay, precision_score, recall_score, f1_score\n",
        "import matplotlib.pyplot as plt\n",
        "import pandas as pd\n",
        "from tensorflow.keras.utils import to_categorical"
      ]
    },
    {
      "cell_type": "code",
      "execution_count": 3,
      "metadata": {
        "id": "6JmDLxiW7zMD"
      },
      "outputs": [],
      "source": [
        "data = pd.read_csv('training_dataset_1.csv')"
      ]
    },
    {
      "cell_type": "code",
      "execution_count": 4,
      "metadata": {
        "colab": {
          "base_uri": "https://localhost:8080/"
        },
        "id": "zVaTbND4BTw-",
        "outputId": "ba310972-d65a-47fe-c211-f8df171713b1"
      },
      "outputs": [
        {
          "name": "stdout",
          "output_type": "stream",
          "text": [
            "(1000, 300, 3)\n",
            "(1000, 1)\n"
          ]
        }
      ],
      "source": [
        "\n",
        "# Example dataframe structure\n",
        "# Ensure `obs` is sequentially numbered and there are exactly 300 rows for each observation\n",
        "# Initialize list for storing reshaped data\n",
        "observations = []\n",
        "class_labels = np.zeros([1000, 1])\n",
        "\n",
        "i = 0\n",
        "# Group by 'label' and 'obs' to process each class label and its observations\n",
        "for label, label_group in data.groupby('label'):\n",
        "    for obs_id, group in label_group.groupby('obs'):\n",
        "        # Ensure the group has exactly 300 rows\n",
        "        if len(group) != 300:\n",
        "            raise ValueError(f\"Observation {obs_id} for label {label} does not have 300 rows.\")\n",
        "\n",
        "        # Extract x, y, z columns and convert to NumPy array\n",
        "        xyz = group[['x', 'y', 'z']].to_numpy()\n",
        "        # Shape: (300, 3)\n",
        "        observations.append(xyz)\n",
        "        class_labels[i] = label\n",
        "        i+=1\n",
        "\n",
        "# Stack all observations into a single NumPy array\n",
        "final_array = np.stack(observations)\n",
        "# Shape: (num_observations, 3, 300)\n",
        "\n",
        "# Check final shape\n",
        "# Expected shape: (1000, 3, 300)\n",
        "print(final_array.shape)\n",
        "\n",
        "# Verify the shape\n",
        "# Expected output: (1000,)\n",
        "print(class_labels.shape)\n",
        "\n"
      ]
    },
    {
      "cell_type": "code",
      "execution_count": 5,
      "metadata": {
        "colab": {
          "base_uri": "https://localhost:8080/"
        },
        "id": "LHylmBWf-WG-",
        "outputId": "2f2bf107-b2bc-4f66-ab17-3615196a85f7"
      },
      "outputs": [
        {
          "name": "stdout",
          "output_type": "stream",
          "text": [
            "Training fold...\n"
          ]
        },
        {
          "name": "stderr",
          "output_type": "stream",
          "text": [
            "2024-12-20 17:17:59.936362: I metal_plugin/src/device/metal_device.cc:1154] Metal device set to: Apple M1\n",
            "2024-12-20 17:17:59.936391: I metal_plugin/src/device/metal_device.cc:296] systemMemory: 8.00 GB\n",
            "2024-12-20 17:17:59.936397: I metal_plugin/src/device/metal_device.cc:313] maxCacheSize: 2.67 GB\n",
            "2024-12-20 17:17:59.936890: I tensorflow/core/common_runtime/pluggable_device/pluggable_device_factory.cc:305] Could not identify NUMA node of platform GPU ID 0, defaulting to 0. Your kernel may not have been built with NUMA support.\n",
            "2024-12-20 17:17:59.937272: I tensorflow/core/common_runtime/pluggable_device/pluggable_device_factory.cc:271] Created TensorFlow device (/job:localhost/replica:0/task:0/device:GPU:0 with 0 MB memory) -> physical PluggableDevice (device: 0, name: METAL, pci bus id: <undefined>)\n"
          ]
        },
        {
          "name": "stdout",
          "output_type": "stream",
          "text": [
            "Epoch 1/8\n"
          ]
        },
        {
          "name": "stderr",
          "output_type": "stream",
          "text": [
            "2024-12-20 17:18:01.705597: I tensorflow/core/grappler/optimizers/custom_graph_optimizer_registry.cc:117] Plugin optimizer for device_type GPU is enabled.\n"
          ]
        },
        {
          "name": "stdout",
          "output_type": "stream",
          "text": [
            "\u001b[1m100/100\u001b[0m \u001b[32m━━━━━━━━━━━━━━━━━━━━\u001b[0m\u001b[37m\u001b[0m \u001b[1m13s\u001b[0m 73ms/step - accuracy: 0.5104 - loss: 81.6967 - val_accuracy: 0.1100 - val_loss: 135.1089\n",
            "Epoch 2/8\n",
            "\u001b[1m100/100\u001b[0m \u001b[32m━━━━━━━━━━━━━━━━━━━━\u001b[0m\u001b[37m\u001b[0m \u001b[1m7s\u001b[0m 72ms/step - accuracy: 0.8700 - loss: 27.0009 - val_accuracy: 0.2300 - val_loss: 175.3820\n",
            "Epoch 3/8\n",
            "\u001b[1m100/100\u001b[0m \u001b[32m━━━━━━━━━━━━━━━━━━━━\u001b[0m\u001b[37m\u001b[0m \u001b[1m7s\u001b[0m 71ms/step - accuracy: 0.9144 - loss: 22.8806 - val_accuracy: 0.4000 - val_loss: 107.1324\n",
            "Epoch 4/8\n",
            "\u001b[1m100/100\u001b[0m \u001b[32m━━━━━━━━━━━━━━━━━━━━\u001b[0m\u001b[37m\u001b[0m \u001b[1m7s\u001b[0m 72ms/step - accuracy: 0.8553 - loss: 73.1621 - val_accuracy: 0.6650 - val_loss: 86.2906\n",
            "Epoch 5/8\n",
            "\u001b[1m100/100\u001b[0m \u001b[32m━━━━━━━━━━━━━━━━━━━━\u001b[0m\u001b[37m\u001b[0m \u001b[1m7s\u001b[0m 74ms/step - accuracy: 0.9413 - loss: 29.7687 - val_accuracy: 0.8650 - val_loss: 48.4381\n",
            "Epoch 6/8\n",
            "\u001b[1m100/100\u001b[0m \u001b[32m━━━━━━━━━━━━━━━━━━━━\u001b[0m\u001b[37m\u001b[0m \u001b[1m7s\u001b[0m 73ms/step - accuracy: 0.9214 - loss: 33.4266 - val_accuracy: 0.8600 - val_loss: 75.9456\n",
            "Epoch 7/8\n",
            "\u001b[1m100/100\u001b[0m \u001b[32m━━━━━━━━━━━━━━━━━━━━\u001b[0m\u001b[37m\u001b[0m \u001b[1m7s\u001b[0m 74ms/step - accuracy: 0.9013 - loss: 59.2025 - val_accuracy: 0.9900 - val_loss: 3.3512\n",
            "Epoch 8/8\n",
            "\u001b[1m100/100\u001b[0m \u001b[32m━━━━━━━━━━━━━━━━━━━━\u001b[0m\u001b[37m\u001b[0m \u001b[1m7s\u001b[0m 72ms/step - accuracy: 0.9472 - loss: 32.4695 - val_accuracy: 0.9800 - val_loss: 21.5581\n",
            "\u001b[1m7/7\u001b[0m \u001b[32m━━━━━━━━━━━━━━━━━━━━\u001b[0m\u001b[37m\u001b[0m \u001b[1m1s\u001b[0m 29ms/step\n",
            "Training fold...\n",
            "Epoch 1/8\n",
            "\u001b[1m100/100\u001b[0m \u001b[32m━━━━━━━━━━━━━━━━━━━━\u001b[0m\u001b[37m\u001b[0m \u001b[1m9s\u001b[0m 79ms/step - accuracy: 0.5416 - loss: 89.9289 - val_accuracy: 0.1450 - val_loss: 154.4918\n",
            "Epoch 2/8\n",
            "\u001b[1m100/100\u001b[0m \u001b[32m━━━━━━━━━━━━━━━━━━━━\u001b[0m\u001b[37m\u001b[0m \u001b[1m8s\u001b[0m 77ms/step - accuracy: 0.8348 - loss: 41.5408 - val_accuracy: 0.2800 - val_loss: 218.0795\n",
            "Epoch 3/8\n",
            "\u001b[1m100/100\u001b[0m \u001b[32m━━━━━━━━━━━━━━━━━━━━\u001b[0m\u001b[37m\u001b[0m \u001b[1m7s\u001b[0m 73ms/step - accuracy: 0.8680 - loss: 35.1186 - val_accuracy: 0.4100 - val_loss: 185.7206\n",
            "Epoch 4/8\n",
            "\u001b[1m100/100\u001b[0m \u001b[32m━━━━━━━━━━━━━━━━━━━━\u001b[0m\u001b[37m\u001b[0m \u001b[1m7s\u001b[0m 71ms/step - accuracy: 0.9285 - loss: 27.9527 - val_accuracy: 0.8400 - val_loss: 31.8668\n",
            "Epoch 5/8\n",
            "\u001b[1m100/100\u001b[0m \u001b[32m━━━━━━━━━━━━━━━━━━━━\u001b[0m\u001b[37m\u001b[0m \u001b[1m7s\u001b[0m 73ms/step - accuracy: 0.9024 - loss: 45.9346 - val_accuracy: 0.7950 - val_loss: 109.3387\n",
            "Epoch 6/8\n",
            "\u001b[1m100/100\u001b[0m \u001b[32m━━━━━━━━━━━━━━━━━━━━\u001b[0m\u001b[37m\u001b[0m \u001b[1m7s\u001b[0m 72ms/step - accuracy: 0.9125 - loss: 51.6890 - val_accuracy: 0.9700 - val_loss: 16.0779\n",
            "Epoch 7/8\n",
            "\u001b[1m100/100\u001b[0m \u001b[32m━━━━━━━━━━━━━━━━━━━━\u001b[0m\u001b[37m\u001b[0m \u001b[1m7s\u001b[0m 74ms/step - accuracy: 0.9347 - loss: 36.8096 - val_accuracy: 0.9450 - val_loss: 35.7099\n",
            "Epoch 8/8\n",
            "\u001b[1m100/100\u001b[0m \u001b[32m━━━━━━━━━━━━━━━━━━━━\u001b[0m\u001b[37m\u001b[0m \u001b[1m7s\u001b[0m 71ms/step - accuracy: 0.9407 - loss: 40.7102 - val_accuracy: 0.9450 - val_loss: 56.0847\n",
            "\u001b[1m7/7\u001b[0m \u001b[32m━━━━━━━━━━━━━━━━━━━━\u001b[0m\u001b[37m\u001b[0m \u001b[1m0s\u001b[0m 24ms/step\n",
            "Training fold...\n",
            "Epoch 1/8\n",
            "\u001b[1m100/100\u001b[0m \u001b[32m━━━━━━━━━━━━━━━━━━━━\u001b[0m\u001b[37m\u001b[0m \u001b[1m9s\u001b[0m 74ms/step - accuracy: 0.5415 - loss: 104.0123 - val_accuracy: 0.2850 - val_loss: 89.7537\n",
            "Epoch 2/8\n",
            "\u001b[1m100/100\u001b[0m \u001b[32m━━━━━━━━━━━━━━━━━━━━\u001b[0m\u001b[37m\u001b[0m \u001b[1m7s\u001b[0m 71ms/step - accuracy: 0.8742 - loss: 41.1472 - val_accuracy: 0.2050 - val_loss: 360.7330\n",
            "Epoch 3/8\n",
            "\u001b[1m100/100\u001b[0m \u001b[32m━━━━━━━━━━━━━━━━━━━━\u001b[0m\u001b[37m\u001b[0m \u001b[1m7s\u001b[0m 71ms/step - accuracy: 0.9170 - loss: 28.4417 - val_accuracy: 0.5800 - val_loss: 92.9932\n",
            "Epoch 4/8\n",
            "\u001b[1m100/100\u001b[0m \u001b[32m━━━━━━━━━━━━━━━━━━━━\u001b[0m\u001b[37m\u001b[0m \u001b[1m7s\u001b[0m 70ms/step - accuracy: 0.8931 - loss: 31.9957 - val_accuracy: 0.6500 - val_loss: 151.2503\n",
            "Epoch 5/8\n",
            "\u001b[1m100/100\u001b[0m \u001b[32m━━━━━━━━━━━━━━━━━━━━\u001b[0m\u001b[37m\u001b[0m \u001b[1m8s\u001b[0m 76ms/step - accuracy: 0.9242 - loss: 34.8450 - val_accuracy: 0.8750 - val_loss: 68.6443\n",
            "Epoch 6/8\n",
            "\u001b[1m100/100\u001b[0m \u001b[32m━━━━━━━━━━━━━━━━━━━━\u001b[0m\u001b[37m\u001b[0m \u001b[1m7s\u001b[0m 72ms/step - accuracy: 0.9019 - loss: 50.0669 - val_accuracy: 0.9150 - val_loss: 71.0012\n",
            "Epoch 7/8\n",
            "\u001b[1m100/100\u001b[0m \u001b[32m━━━━━━━━━━━━━━━━━━━━\u001b[0m\u001b[37m\u001b[0m \u001b[1m7s\u001b[0m 72ms/step - accuracy: 0.9053 - loss: 75.9109 - val_accuracy: 0.9200 - val_loss: 118.2663\n",
            "Epoch 8/8\n",
            "\u001b[1m100/100\u001b[0m \u001b[32m━━━━━━━━━━━━━━━━━━━━\u001b[0m\u001b[37m\u001b[0m \u001b[1m7s\u001b[0m 72ms/step - accuracy: 0.9181 - loss: 89.2339 - val_accuracy: 0.9250 - val_loss: 161.2228\n",
            "WARNING:tensorflow:5 out of the last 15 calls to <function TensorFlowTrainer.make_predict_function.<locals>.one_step_on_data_distributed at 0x39fc62b80> triggered tf.function retracing. Tracing is expensive and the excessive number of tracings could be due to (1) creating @tf.function repeatedly in a loop, (2) passing tensors with different shapes, (3) passing Python objects instead of tensors. For (1), please define your @tf.function outside of the loop. For (2), @tf.function has reduce_retracing=True option that can avoid unnecessary retracing. For (3), please refer to https://www.tensorflow.org/guide/function#controlling_retracing and https://www.tensorflow.org/api_docs/python/tf/function for  more details.\n",
            "\u001b[1m7/7\u001b[0m \u001b[32m━━━━━━━━━━━━━━━━━━━━\u001b[0m\u001b[37m\u001b[0m \u001b[1m0s\u001b[0m 24ms/step\n",
            "Training fold...\n",
            "Epoch 1/8\n",
            "\u001b[1m100/100\u001b[0m \u001b[32m━━━━━━━━━━━━━━━━━━━━\u001b[0m\u001b[37m\u001b[0m \u001b[1m10s\u001b[0m 79ms/step - accuracy: 0.5272 - loss: 112.6517 - val_accuracy: 0.1800 - val_loss: 110.4149\n",
            "Epoch 2/8\n",
            "\u001b[1m100/100\u001b[0m \u001b[32m━━━━━━━━━━━━━━━━━━━━\u001b[0m\u001b[37m\u001b[0m \u001b[1m7s\u001b[0m 72ms/step - accuracy: 0.8439 - loss: 36.4030 - val_accuracy: 0.2950 - val_loss: 214.3577\n",
            "Epoch 3/8\n",
            "\u001b[1m100/100\u001b[0m \u001b[32m━━━━━━━━━━━━━━━━━━━━\u001b[0m\u001b[37m\u001b[0m \u001b[1m7s\u001b[0m 74ms/step - accuracy: 0.8950 - loss: 37.0853 - val_accuracy: 0.5000 - val_loss: 144.6384\n",
            "Epoch 4/8\n",
            "\u001b[1m100/100\u001b[0m \u001b[32m━━━━━━━━━━━━━━━━━━━━\u001b[0m\u001b[37m\u001b[0m \u001b[1m7s\u001b[0m 72ms/step - accuracy: 0.8702 - loss: 54.2526 - val_accuracy: 0.7850 - val_loss: 71.1686\n",
            "Epoch 5/8\n",
            "\u001b[1m100/100\u001b[0m \u001b[32m━━━━━━━━━━━━━━━━━━━━\u001b[0m\u001b[37m\u001b[0m \u001b[1m7s\u001b[0m 71ms/step - accuracy: 0.9053 - loss: 47.6868 - val_accuracy: 0.9250 - val_loss: 21.5301\n",
            "Epoch 6/8\n",
            "\u001b[1m100/100\u001b[0m \u001b[32m━━━━━━━━━━━━━━━━━━━━\u001b[0m\u001b[37m\u001b[0m \u001b[1m7s\u001b[0m 71ms/step - accuracy: 0.9340 - loss: 65.3640 - val_accuracy: 0.9550 - val_loss: 26.2335\n",
            "Epoch 7/8\n",
            "\u001b[1m100/100\u001b[0m \u001b[32m━━━━━━━━━━━━━━━━━━━━\u001b[0m\u001b[37m\u001b[0m \u001b[1m7s\u001b[0m 72ms/step - accuracy: 0.9388 - loss: 39.5040 - val_accuracy: 0.9650 - val_loss: 35.1675\n",
            "Epoch 8/8\n",
            "\u001b[1m100/100\u001b[0m \u001b[32m━━━━━━━━━━━━━━━━━━━━\u001b[0m\u001b[37m\u001b[0m \u001b[1m7s\u001b[0m 71ms/step - accuracy: 0.9483 - loss: 41.3979 - val_accuracy: 0.9150 - val_loss: 65.6717\n",
            "WARNING:tensorflow:5 out of the last 15 calls to <function TensorFlowTrainer.make_predict_function.<locals>.one_step_on_data_distributed at 0x345172940> triggered tf.function retracing. Tracing is expensive and the excessive number of tracings could be due to (1) creating @tf.function repeatedly in a loop, (2) passing tensors with different shapes, (3) passing Python objects instead of tensors. For (1), please define your @tf.function outside of the loop. For (2), @tf.function has reduce_retracing=True option that can avoid unnecessary retracing. For (3), please refer to https://www.tensorflow.org/guide/function#controlling_retracing and https://www.tensorflow.org/api_docs/python/tf/function for  more details.\n",
            "\u001b[1m7/7\u001b[0m \u001b[32m━━━━━━━━━━━━━━━━━━━━\u001b[0m\u001b[37m\u001b[0m \u001b[1m0s\u001b[0m 24ms/step\n",
            "Training fold...\n",
            "Epoch 1/8\n",
            "\u001b[1m100/100\u001b[0m \u001b[32m━━━━━━━━━━━━━━━━━━━━\u001b[0m\u001b[37m\u001b[0m \u001b[1m9s\u001b[0m 74ms/step - accuracy: 0.4978 - loss: 103.7015 - val_accuracy: 0.0550 - val_loss: 231.7208\n",
            "Epoch 2/8\n",
            "\u001b[1m100/100\u001b[0m \u001b[32m━━━━━━━━━━━━━━━━━━━━\u001b[0m\u001b[37m\u001b[0m \u001b[1m7s\u001b[0m 73ms/step - accuracy: 0.8663 - loss: 27.9663 - val_accuracy: 0.0550 - val_loss: 378.9221\n",
            "Epoch 3/8\n",
            "\u001b[1m100/100\u001b[0m \u001b[32m━━━━━━━━━━━━━━━━━━━━\u001b[0m\u001b[37m\u001b[0m \u001b[1m7s\u001b[0m 72ms/step - accuracy: 0.9000 - loss: 35.7444 - val_accuracy: 0.6450 - val_loss: 65.6414\n",
            "Epoch 4/8\n",
            "\u001b[1m100/100\u001b[0m \u001b[32m━━━━━━━━━━━━━━━━━━━━\u001b[0m\u001b[37m\u001b[0m \u001b[1m7s\u001b[0m 73ms/step - accuracy: 0.9442 - loss: 23.6870 - val_accuracy: 0.6100 - val_loss: 112.2380\n",
            "Epoch 5/8\n",
            "\u001b[1m100/100\u001b[0m \u001b[32m━━━━━━━━━━━━━━━━━━━━\u001b[0m\u001b[37m\u001b[0m \u001b[1m7s\u001b[0m 73ms/step - accuracy: 0.9438 - loss: 31.6749 - val_accuracy: 0.9200 - val_loss: 48.4238\n",
            "Epoch 6/8\n",
            "\u001b[1m100/100\u001b[0m \u001b[32m━━━━━━━━━━━━━━━━━━━━\u001b[0m\u001b[37m\u001b[0m \u001b[1m7s\u001b[0m 73ms/step - accuracy: 0.9333 - loss: 46.3061 - val_accuracy: 0.9250 - val_loss: 74.3266\n",
            "Epoch 7/8\n",
            "\u001b[1m100/100\u001b[0m \u001b[32m━━━━━━━━━━━━━━━━━━━━\u001b[0m\u001b[37m\u001b[0m \u001b[1m7s\u001b[0m 74ms/step - accuracy: 0.9471 - loss: 37.2903 - val_accuracy: 0.9650 - val_loss: 45.8501\n",
            "Epoch 8/8\n",
            "\u001b[1m100/100\u001b[0m \u001b[32m━━━━━━━━━━━━━━━━━━━━\u001b[0m\u001b[37m\u001b[0m \u001b[1m9s\u001b[0m 88ms/step - accuracy: 0.9543 - loss: 41.6678 - val_accuracy: 0.9350 - val_loss: 71.2928\n",
            "\u001b[1m7/7\u001b[0m \u001b[32m━━━━━━━━━━━━━━━━━━━━\u001b[0m\u001b[37m\u001b[0m \u001b[1m1s\u001b[0m 63ms/step\n"
          ]
        }
      ],
      "source": [
        "# Assuming X is of shape (300, 3, numSamples) and Y is of shape (numSamples,)\n",
        "# X and Y should be numpy arrays\n",
        "X, Y = final_array, class_labels\n",
        "\n",
        "# Parameters\n",
        "k = 5\n",
        "kf = KFold(n_splits=k, shuffle=True, random_state=42)\n",
        "\n",
        "# Store results\n",
        "accuracies = []\n",
        "conf_matrices = []\n",
        "precision_list = []\n",
        "recall_list = []\n",
        "f1_scores_list = []\n",
        "\n",
        "# Define the model\n",
        "def create_model():\n",
        "    model = tf.keras.Sequential([\n",
        "        tf.keras.layers.Input(shape=(300, 3, 1)),\n",
        "\n",
        "        tf.keras.layers.Conv2D(64, (3, 3), strides=(1, 1), padding=\"same\", activation=\"relu\"),\n",
        "        tf.keras.layers.BatchNormalization(),\n",
        "        tf.keras.layers.Dropout(0.2),\n",
        "\n",
        "        tf.keras.layers.Conv2D(128, (3, 3), strides=(1, 1), padding=\"same\", activation=\"relu\"),\n",
        "        tf.keras.layers.BatchNormalization(),\n",
        "\n",
        "        tf.keras.layers.MaxPooling2D(pool_size=(2, 2), strides=(1, 1), name='maxpool'),\n",
        "        tf.keras.layers.Flatten(),\n",
        "        tf.keras.layers.Dense(256, activation=\"relu\"),\n",
        "        tf.keras.layers.Dropout(0.3),\n",
        "\n",
        "        tf.keras.layers.Dense(128, activation=\"relu\"),\n",
        "        tf.keras.layers.Dense(10, activation=\"softmax\")\n",
        "    ])\n",
        "    return model\n",
        "\n",
        "# Cross-validation loop\n",
        "for fold, (train_index, test_index) in enumerate(kf.split(X, Y)):\n",
        "    print(\"Training fold...\")\n",
        "\n",
        "    X_train, X_test = X[train_index], X[test_index]\n",
        "    Y_train, Y_test = Y[train_index], Y[test_index]\n",
        "\n",
        "    # Reshape for CNN\n",
        "    X_train = X_train.reshape((X_train.shape[0], 300, 3, 1))\n",
        "    X_test = X_test.reshape((X_test.shape[0], 300, 3, 1))\n",
        "\n",
        "    Y_train = to_categorical(Y_train, num_classes=10)\n",
        "    Y_test = to_categorical(Y_test, num_classes=10)\n",
        "\n",
        "    # Create and compile the model\n",
        "    model = create_model()\n",
        "    model.compile(optimizer=tf.keras.optimizers.Adam(learning_rate=1e-3),\n",
        "                  loss=\"categorical_crossentropy\",\n",
        "                  metrics=[\"accuracy\"])\n",
        "\n",
        "    # Train the model\n",
        "    model.fit(X_train, Y_train, validation_data=(X_test, Y_test), epochs=8, batch_size=8, verbose=1)\n",
        "\n",
        "    # Evaluate\n",
        "    Y_pred = np.argmax(model.predict(X_test), axis=1)\n",
        "    Y_pred = to_categorical(Y_pred, num_classes=10)\n",
        "    accuracy = np.mean(Y_pred == Y_test)\n",
        "    accuracies.append(accuracy)\n",
        "\n",
        "    # Confusion matrix\n",
        "    conf_mat = confusion_matrix(Y_test, Y_pred)\n",
        "    conf_matrices.append(conf_mat)\n",
        "\n",
        "#     # Precision, Recall, F1 score\n",
        "#     precision = precision_score(Y_test, Y_pred, average=None)\n",
        "#     recall = recall_score(Y_test, Y_pred, average=None)\n",
        "#     f1 = f1_score(Y_test, Y_pred, average=None)\n",
        "\n",
        "#     precision_list.append(precision)\n",
        "#     recall_list.append(recall)\n",
        "#     f1_scores_list.append(f1)\n",
        "\n",
        "\n",
        "# # Calculate averages\n",
        "# avg_accuracy = np.mean(accuracies)\n",
        "# avg_conf_mat = np.sum(conf_matrices, axis=0)\n",
        "# avg_precision = np.mean(precision_list, axis=0)\n",
        "# avg_recall = np.mean(recall_list, axis=0)\n",
        "# avg_f1_score = np.mean(f1_scores_list, axis=0)\n",
        "\n",
        "# # Display results\n",
        "# print(\"Average Accuracy: {:.2f}%\".format(avg_accuracy * 100))\n",
        "# print(\"Average Precision: \", avg_precision)\n",
        "# print(\"Average Recall: \", avg_recall)\n",
        "# print(\"Average F1 Score: \", avg_f1_score)\n",
        "\n",
        "# # Confusion Matrix Plot\n",
        "# disp = ConfusionMatrixDisplay(confusion_matrix=avg_conf_mat)\n",
        "# disp.plot()\n",
        "# plt.title(\"Confusion Matrix\")\n",
        "# plt.show()\n",
        "\n",
        "# # Bar plots\n",
        "# plt.figure(figsize=(10, 5))\n",
        "# plt.bar(range(len(avg_precision)), avg_precision, color='blue', alpha=0.7, label='Precision')\n",
        "# plt.title(\"Precision for each class\")\n",
        "# plt.xlabel(\"Class\")\n",
        "# plt.ylabel(\"Precision\")\n",
        "# plt.legend()\n",
        "# plt.show()\n",
        "\n",
        "# plt.figure(figsize=(10, 5))\n",
        "# plt.bar(range(len(avg_recall)), avg_recall, color='orange', alpha=0.7, label='Recall')\n",
        "# plt.title(\"Recall for each class\")\n",
        "# plt.xlabel(\"Class\")\n",
        "# plt.ylabel(\"Recall\")\n",
        "# plt.legend()\n",
        "# plt.show()\n",
        "\n",
        "# plt.figure(figsize=(10, 5))\n",
        "# plt.bar(range(len(avg_f1_score)), avg_f1_score, color='green', alpha=0.7, label='F1 Score')\n",
        "# plt.title(\"F1 Score for each class\")\n",
        "# plt.xlabel(\"Class\")\n",
        "# plt.ylabel(\"F1 Score\")\n",
        "# plt.legend()\n",
        "# plt.show()\n"
      ]
    },
    {
      "cell_type": "code",
      "execution_count": 16,
      "metadata": {},
      "outputs": [],
      "source": [
        "# Confusion matrix\n",
        "conf_mat = confusion_matrix(np.argmax(Y_test, axis=1), np.argmax(Y_pred, axis=1))\n",
        "conf_matrices.append(conf_mat)"
      ]
    },
    {
      "cell_type": "code",
      "execution_count": 17,
      "metadata": {},
      "outputs": [
        {
          "data": {
            "image/png": "[encoded data removed]",
            "text/plain": [
              "<Figure size 640x480 with 2 Axes>"
            ]
          },
          "metadata": {},
          "output_type": "display_data"
        }
      ],
      "source": [
        "avg_conf_mat = np.sum(conf_matrices, axis=0)\n",
        "# Confusion Matrix Plot\n",
        "disp = ConfusionMatrixDisplay(confusion_matrix=avg_conf_mat)\n",
        "disp.plot()\n",
        "plt.title(\"Confusion Matrix\")\n",
        "plt.show()"
      ]
    }
  ],
  "metadata": {
    "accelerator": "GPU",
    "colab": {
      "gpuType": "T4",
      "provenance": []
    },
    "kernelspec": {
      "display_name": "Python 3",
      "name": "python3"
    },
    "language_info": {
      "codemirror_mode": {
        "name": "ipython",
        "version": 3
      },
      "file_extension": ".py",
      "mimetype": "text/x-python",
      "name": "python",
      "nbconvert_exporter": "python",
      "pygments_lexer": "ipython3",
      "version": "3.9.6"
    }
  },
  "nbformat": 4,
  "nbformat_minor": 0
}
