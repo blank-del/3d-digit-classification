{
 "cells": [
  {
   "cell_type": "code",
   "execution_count": 57,
   "metadata": {},
   "outputs": [],
   "source": [
    "import plotly.graph_objects as go\n",
    "import pandas as pd\n",
    "import numpy as np\n",
    "import os\n",
    "from scipy.signal import savgol_filter"
   ]
  },
  {
   "cell_type": "code",
   "execution_count": 78,
   "metadata": {},
   "outputs": [],
   "source": [
    "# function to create a dictionary of file list\n",
    "file_names = {}\n",
    "for stroke_num in range(10):\n",
    "    # Generate file names for each stroke\n",
    "    file_names[stroke_num] = [f\"stroke_{stroke_num}_{str(i).zfill(4)}.csv\" for i in range(1, 101)]\n"
   ]
  },
  {
   "cell_type": "code",
   "execution_count": null,
   "metadata": {},
   "outputs": [],
   "source": []
  },
  {
   "cell_type": "code",
   "execution_count": 76,
   "metadata": {},
   "outputs": [
    {
     "data": {
      "application/vnd.plotly.v1+json": {
       "config": {
        "plotlyServerURL": "https://plot.ly"
       },
       "data": [
        {
         "marker": {
          "color": [
           0,
           1,
           2,
           3,
           4,
           5,
           6,
           7,
           8,
           9,
           10,
           11,
           12,
           13,
           14,
           15,
           16,
           17,
           18,
           19,
           20,
           21,
           22,
           23,
           24,
           25,
           26,
           27,
           28,
           29,
           30,
           31,
           32,
           33,
           34,
           35,
           36,
           37,
           38,
           39,
           40,
           41,
           42,
           43,
           44,
           45,
           46,
           47,
           48,
           49,
           50,
           51
          ],
          "colorscale": [
           [
            0,
            "#0d0887"
           ],
           [
            0.1111111111111111,
            "#46039f"
           ],
           [
            0.2222222222222222,
            "#7201a8"
           ],
           [
            0.3333333333333333,
            "#9c179e"
           ],
           [
            0.4444444444444444,
            "#bd3786"
           ],
           [
            0.5555555555555556,
            "#d8576b"
           ],
           [
            0.6666666666666666,
            "#ed7953"
           ],
           [
            0.7777777777777778,
            "#fb9f3a"
           ],
           [
            0.8888888888888888,
            "#fdca26"
           ],
           [
            1,
            "#f0f921"
           ]
          ],
          "opacity": 0.8,
          "size": 3
         },
         "mode": "markers",
         "type": "scatter3d",
         "x": [
          -0.285179208992149,
          -0.287162687157682,
          -0.28933326341981963,
          -0.293023624411892,
          -0.29558599441645234,
          -0.29849942162456733,
          -0.30279761308908065,
          -0.30875793875893953,
          -0.31455698666399695,
          -0.31983257699622913,
          -0.3294984678612341,
          -0.34662588841803166,
          -0.3678846613723066,
          -0.4161737962561309,
          -0.48661603100982076,
          -0.5945793291957239,
          -0.7221055507357595,
          -0.8387695062675868,
          -0.9376188728352621,
          -0.9870456416074378,
          -0.9955269750964876,
          -0.956578394896948,
          -0.874771291445604,
          -0.7522916041020157,
          -0.5733973717285633,
          -0.38868984061307754,
          -0.1514457300321442,
          0.11940811060317866,
          0.4030143648436713,
          0.659079312511817,
          0.8268154871144616,
          0.9423821281991379,
          0.992745976397832,
          0.9812236533306626,
          0.8937819079715695,
          0.7504895336291936,
          0.5637204972916451,
          0.3435450660126571,
          0.1154371322588896,
          -0.10101153136018323,
          -0.2730646668223829,
          -0.4054012062464543,
          -0.4986239252783427,
          -0.5533203754991263,
          -0.5825863809269572,
          -0.5852710995806771,
          -0.5860013680803491,
          -0.5813865299698572,
          -0.5728054406219755,
          -0.5692828621321399,
          -0.561589118279365,
          -0.5530305919291205
         ],
         "y": [
          0.637823627619546,
          0.6365607634995389,
          0.6354997383568811,
          0.6342490842490833,
          0.6339111285539848,
          0.6328885400313965,
          0.6307932147217855,
          0.6280655852084416,
          0.6256432060003481,
          0.6244331065759628,
          0.6214242107099242,
          0.6153213849642412,
          0.5832984475841609,
          0.610947584161869,
          0.6629993022850157,
          0.6814233385661947,
          0.6178135356706776,
          0.4354548229548224,
          0.23485740450026127,
          0.023214285714285444,
          -0.18934894470608762,
          -0.39033664747950436,
          -0.5761848072562352,
          -0.7400156985871263,
          -0.8697906855049704,
          -0.9571764346764338,
          -0.997114294435722,
          -0.9938350340136045,
          -0.9384105180533743,
          -0.8482125414268262,
          -0.7168600645386353,
          -0.541732295482295,
          -0.3297444618873187,
          -0.08245900924472356,
          0.15944967730681978,
          0.38399180184894405,
          0.5754927612070462,
          0.7275008721437285,
          0.8431384092098367,
          0.9184436595150868,
          0.9591705913134473,
          0.9756846328274889,
          0.9828885400313961,
          0.9903911564625838,
          0.9967338217338205,
          0.9993524332810033,
          0.9987964416535832,
          0.9930490144775846,
          0.9851016047444606,
          0.9826528120405672,
          0.9786952729809876,
          0.9759911290523541
         ],
         "z": [
          1.0021834445598772,
          0.9948372101213219,
          0.9882349315912731,
          0.9778182007272268,
          0.9749110224331309,
          0.9731276192530496,
          0.968905999630222,
          0.9615403133859226,
          0.953258851534573,
          0.9448040567607532,
          0.936412817391839,
          0.9319292724639455,
          1.0534154289412043,
          0.7137349007765306,
          0.1561373336003941,
          -0.3809848006286204,
          -0.6499637926784166,
          -0.4391976996795262,
          -0.3356948339085415,
          -0.19526146308393907,
          -0.046507149020091024,
          0.09742273203500554,
          0.2135683085788239,
          0.28913472205102886,
          0.3310042524343642,
          0.3488450249599404,
          0.2896479800936764,
          0.15362015438185603,
          -0.05135854492789347,
          -0.26744210680389474,
          -0.4642048255885612,
          -0.6465838006902496,
          -0.7977368498089478,
          -0.9168810859114991,
          -0.9746933933193629,
          -0.9859436629483531,
          -0.93198993898681,
          -0.8509596866140751,
          -0.7555851719462581,
          -0.6345323477751748,
          -0.5100205688401324,
          -0.42465314156292316,
          -0.3928841057561933,
          -0.3881116726241829,
          -0.37569525761124073,
          -0.36175832768396354,
          -0.3681157940958951,
          -0.379240878836435,
          -0.3877967844816956,
          -0.3907749467345177,
          -0.39504168794351213,
          -0.3970556514236411
         ]
        },
        {
         "line": {
          "color": "gray",
          "width": 1
         },
         "mode": "lines",
         "name": "Connecting Line",
         "type": "scatter3d",
         "x": [
          -0.285179208992149,
          -0.287162687157682,
          -0.28933326341981963,
          -0.293023624411892,
          -0.29558599441645234,
          -0.29849942162456733,
          -0.30279761308908065,
          -0.30875793875893953,
          -0.31455698666399695,
          -0.31983257699622913,
          -0.3294984678612341,
          -0.34662588841803166,
          -0.3678846613723066,
          -0.4161737962561309,
          -0.48661603100982076,
          -0.5945793291957239,
          -0.7221055507357595,
          -0.8387695062675868,
          -0.9376188728352621,
          -0.9870456416074378,
          -0.9955269750964876,
          -0.956578394896948,
          -0.874771291445604,
          -0.7522916041020157,
          -0.5733973717285633,
          -0.38868984061307754,
          -0.1514457300321442,
          0.11940811060317866,
          0.4030143648436713,
          0.659079312511817,
          0.8268154871144616,
          0.9423821281991379,
          0.992745976397832,
          0.9812236533306626,
          0.8937819079715695,
          0.7504895336291936,
          0.5637204972916451,
          0.3435450660126571,
          0.1154371322588896,
          -0.10101153136018323,
          -0.2730646668223829,
          -0.4054012062464543,
          -0.4986239252783427,
          -0.5533203754991263,
          -0.5825863809269572,
          -0.5852710995806771,
          -0.5860013680803491,
          -0.5813865299698572,
          -0.5728054406219755,
          -0.5692828621321399,
          -0.561589118279365,
          -0.5530305919291205
         ],
         "y": [
          0.637823627619546,
          0.6365607634995389,
          0.6354997383568811,
          0.6342490842490833,
          0.6339111285539848,
          0.6328885400313965,
          0.6307932147217855,
          0.6280655852084416,
          0.6256432060003481,
          0.6244331065759628,
          0.6214242107099242,
          0.6153213849642412,
          0.5832984475841609,
          0.610947584161869,
          0.6629993022850157,
          0.6814233385661947,
          0.6178135356706776,
          0.4354548229548224,
          0.23485740450026127,
          0.023214285714285444,
          -0.18934894470608762,
          -0.39033664747950436,
          -0.5761848072562352,
          -0.7400156985871263,
          -0.8697906855049704,
          -0.9571764346764338,
          -0.997114294435722,
          -0.9938350340136045,
          -0.9384105180533743,
          -0.8482125414268262,
          -0.7168600645386353,
          -0.541732295482295,
          -0.3297444618873187,
          -0.08245900924472356,
          0.15944967730681978,
          0.38399180184894405,
          0.5754927612070462,
          0.7275008721437285,
          0.8431384092098367,
          0.9184436595150868,
          0.9591705913134473,
          0.9756846328274889,
          0.9828885400313961,
          0.9903911564625838,
          0.9967338217338205,
          0.9993524332810033,
          0.9987964416535832,
          0.9930490144775846,
          0.9851016047444606,
          0.9826528120405672,
          0.9786952729809876,
          0.9759911290523541
         ],
         "z": [
          1.0021834445598772,
          0.9948372101213219,
          0.9882349315912731,
          0.9778182007272268,
          0.9749110224331309,
          0.9731276192530496,
          0.968905999630222,
          0.9615403133859226,
          0.953258851534573,
          0.9448040567607532,
          0.936412817391839,
          0.9319292724639455,
          1.0534154289412043,
          0.7137349007765306,
          0.1561373336003941,
          -0.3809848006286204,
          -0.6499637926784166,
          -0.4391976996795262,
          -0.3356948339085415,
          -0.19526146308393907,
          -0.046507149020091024,
          0.09742273203500554,
          0.2135683085788239,
          0.28913472205102886,
          0.3310042524343642,
          0.3488450249599404,
          0.2896479800936764,
          0.15362015438185603,
          -0.05135854492789347,
          -0.26744210680389474,
          -0.4642048255885612,
          -0.6465838006902496,
          -0.7977368498089478,
          -0.9168810859114991,
          -0.9746933933193629,
          -0.9859436629483531,
          -0.93198993898681,
          -0.8509596866140751,
          -0.7555851719462581,
          -0.6345323477751748,
          -0.5100205688401324,
          -0.42465314156292316,
          -0.3928841057561933,
          -0.3881116726241829,
          -0.37569525761124073,
          -0.36175832768396354,
          -0.3681157940958951,
          -0.379240878836435,
          -0.3877967844816956,
          -0.3907749467345177,
          -0.39504168794351213,
          -0.3970556514236411
         ]
        }
       ],
       "layout": {
        "margin": {
         "b": 0,
         "l": 0,
         "r": 0,
         "t": 0
        },
        "template": {
         "data": {
          "bar": [
           {
            "error_x": {
             "color": "#2a3f5f"
            },
            "error_y": {
             "color": "#2a3f5f"
            },
            "marker": {
             "line": {
              "color": "#E5ECF6",
              "width": 0.5
             },
             "pattern": {
              "fillmode": "overlay",
              "size": 10,
              "solidity": 0.2
             }
            },
            "type": "bar"
           }
          ],
          "barpolar": [
           {
            "marker": {
             "line": {
              "color": "#E5ECF6",
              "width": 0.5
             },
             "pattern": {
              "fillmode": "overlay",
              "size": 10,
              "solidity": 0.2
             }
            },
            "type": "barpolar"
           }
          ],
          "carpet": [
           {
            "aaxis": {
             "endlinecolor": "#2a3f5f",
             "gridcolor": "white",
             "linecolor": "white",
             "minorgridcolor": "white",
             "startlinecolor": "#2a3f5f"
            },
            "baxis": {
             "endlinecolor": "#2a3f5f",
             "gridcolor": "white",
             "linecolor": "white",
             "minorgridcolor": "white",
             "startlinecolor": "#2a3f5f"
            },
            "type": "carpet"
           }
          ],
          "choropleth": [
           {
            "colorbar": {
             "outlinewidth": 0,
             "ticks": ""
            },
            "type": "choropleth"
           }
          ],
          "contour": [
           {
            "colorbar": {
             "outlinewidth": 0,
             "ticks": ""
            },
            "colorscale": [
             [
              0,
              "#0d0887"
             ],
             [
              0.1111111111111111,
              "#46039f"
             ],
             [
              0.2222222222222222,
              "#7201a8"
             ],
             [
              0.3333333333333333,
              "#9c179e"
             ],
             [
              0.4444444444444444,
              "#bd3786"
             ],
             [
              0.5555555555555556,
              "#d8576b"
             ],
             [
              0.6666666666666666,
              "#ed7953"
             ],
             [
              0.7777777777777778,
              "#fb9f3a"
             ],
             [
              0.8888888888888888,
              "#fdca26"
             ],
             [
              1,
              "#f0f921"
             ]
            ],
            "type": "contour"
           }
          ],
          "contourcarpet": [
           {
            "colorbar": {
             "outlinewidth": 0,
             "ticks": ""
            },
            "type": "contourcarpet"
           }
          ],
          "heatmap": [
           {
            "colorbar": {
             "outlinewidth": 0,
             "ticks": ""
            },
            "colorscale": [
             [
              0,
              "#0d0887"
             ],
             [
              0.1111111111111111,
              "#46039f"
             ],
             [
              0.2222222222222222,
              "#7201a8"
             ],
             [
              0.3333333333333333,
              "#9c179e"
             ],
             [
              0.4444444444444444,
              "#bd3786"
             ],
             [
              0.5555555555555556,
              "#d8576b"
             ],
             [
              0.6666666666666666,
              "#ed7953"
             ],
             [
              0.7777777777777778,
              "#fb9f3a"
             ],
             [
              0.8888888888888888,
              "#fdca26"
             ],
             [
              1,
              "#f0f921"
             ]
            ],
            "type": "heatmap"
           }
          ],
          "heatmapgl": [
           {
            "colorbar": {
             "outlinewidth": 0,
             "ticks": ""
            },
            "colorscale": [
             [
              0,
              "#0d0887"
             ],
             [
              0.1111111111111111,
              "#46039f"
             ],
             [
              0.2222222222222222,
              "#7201a8"
             ],
             [
              0.3333333333333333,
              "#9c179e"
             ],
             [
              0.4444444444444444,
              "#bd3786"
             ],
             [
              0.5555555555555556,
              "#d8576b"
             ],
             [
              0.6666666666666666,
              "#ed7953"
             ],
             [
              0.7777777777777778,
              "#fb9f3a"
             ],
             [
              0.8888888888888888,
              "#fdca26"
             ],
             [
              1,
              "#f0f921"
             ]
            ],
            "type": "heatmapgl"
           }
          ],
          "histogram": [
           {
            "marker": {
             "pattern": {
              "fillmode": "overlay",
              "size": 10,
              "solidity": 0.2
             }
            },
            "type": "histogram"
           }
          ],
          "histogram2d": [
           {
            "colorbar": {
             "outlinewidth": 0,
             "ticks": ""
            },
            "colorscale": [
             [
              0,
              "#0d0887"
             ],
             [
              0.1111111111111111,
              "#46039f"
             ],
             [
              0.2222222222222222,
              "#7201a8"
             ],
             [
              0.3333333333333333,
              "#9c179e"
             ],
             [
              0.4444444444444444,
              "#bd3786"
             ],
             [
              0.5555555555555556,
              "#d8576b"
             ],
             [
              0.6666666666666666,
              "#ed7953"
             ],
             [
              0.7777777777777778,
              "#fb9f3a"
             ],
             [
              0.8888888888888888,
              "#fdca26"
             ],
             [
              1,
              "#f0f921"
             ]
            ],
            "type": "histogram2d"
           }
          ],
          "histogram2dcontour": [
           {
            "colorbar": {
             "outlinewidth": 0,
             "ticks": ""
            },
            "colorscale": [
             [
              0,
              "#0d0887"
             ],
             [
              0.1111111111111111,
              "#46039f"
             ],
             [
              0.2222222222222222,
              "#7201a8"
             ],
             [
              0.3333333333333333,
              "#9c179e"
             ],
             [
              0.4444444444444444,
              "#bd3786"
             ],
             [
              0.5555555555555556,
              "#d8576b"
             ],
             [
              0.6666666666666666,
              "#ed7953"
             ],
             [
              0.7777777777777778,
              "#fb9f3a"
             ],
             [
              0.8888888888888888,
              "#fdca26"
             ],
             [
              1,
              "#f0f921"
             ]
            ],
            "type": "histogram2dcontour"
           }
          ],
          "mesh3d": [
           {
            "colorbar": {
             "outlinewidth": 0,
             "ticks": ""
            },
            "type": "mesh3d"
           }
          ],
          "parcoords": [
           {
            "line": {
             "colorbar": {
              "outlinewidth": 0,
              "ticks": ""
             }
            },
            "type": "parcoords"
           }
          ],
          "pie": [
           {
            "automargin": true,
            "type": "pie"
           }
          ],
          "scatter": [
           {
            "fillpattern": {
             "fillmode": "overlay",
             "size": 10,
             "solidity": 0.2
            },
            "type": "scatter"
           }
          ],
          "scatter3d": [
           {
            "line": {
             "colorbar": {
              "outlinewidth": 0,
              "ticks": ""
             }
            },
            "marker": {
             "colorbar": {
              "outlinewidth": 0,
              "ticks": ""
             }
            },
            "type": "scatter3d"
           }
          ],
          "scattercarpet": [
           {
            "marker": {
             "colorbar": {
              "outlinewidth": 0,
              "ticks": ""
             }
            },
            "type": "scattercarpet"
           }
          ],
          "scattergeo": [
           {
            "marker": {
             "colorbar": {
              "outlinewidth": 0,
              "ticks": ""
             }
            },
            "type": "scattergeo"
           }
          ],
          "scattergl": [
           {
            "marker": {
             "colorbar": {
              "outlinewidth": 0,
              "ticks": ""
             }
            },
            "type": "scattergl"
           }
          ],
          "scattermapbox": [
           {
            "marker": {
             "colorbar": {
              "outlinewidth": 0,
              "ticks": ""
             }
            },
            "type": "scattermapbox"
           }
          ],
          "scatterpolar": [
           {
            "marker": {
             "colorbar": {
              "outlinewidth": 0,
              "ticks": ""
             }
            },
            "type": "scatterpolar"
           }
          ],
          "scatterpolargl": [
           {
            "marker": {
             "colorbar": {
              "outlinewidth": 0,
              "ticks": ""
             }
            },
            "type": "scatterpolargl"
           }
          ],
          "scatterternary": [
           {
            "marker": {
             "colorbar": {
              "outlinewidth": 0,
              "ticks": ""
             }
            },
            "type": "scatterternary"
           }
          ],
          "surface": [
           {
            "colorbar": {
             "outlinewidth": 0,
             "ticks": ""
            },
            "colorscale": [
             [
              0,
              "#0d0887"
             ],
             [
              0.1111111111111111,
              "#46039f"
             ],
             [
              0.2222222222222222,
              "#7201a8"
             ],
             [
              0.3333333333333333,
              "#9c179e"
             ],
             [
              0.4444444444444444,
              "#bd3786"
             ],
             [
              0.5555555555555556,
              "#d8576b"
             ],
             [
              0.6666666666666666,
              "#ed7953"
             ],
             [
              0.7777777777777778,
              "#fb9f3a"
             ],
             [
              0.8888888888888888,
              "#fdca26"
             ],
             [
              1,
              "#f0f921"
             ]
            ],
            "type": "surface"
           }
          ],
          "table": [
           {
            "cells": {
             "fill": {
              "color": "#EBF0F8"
             },
             "line": {
              "color": "white"
             }
            },
            "header": {
             "fill": {
              "color": "#C8D4E3"
             },
             "line": {
              "color": "white"
             }
            },
            "type": "table"
           }
          ]
         },
         "layout": {
          "annotationdefaults": {
           "arrowcolor": "#2a3f5f",
           "arrowhead": 0,
           "arrowwidth": 1
          },
          "autotypenumbers": "strict",
          "coloraxis": {
           "colorbar": {
            "outlinewidth": 0,
            "ticks": ""
           }
          },
          "colorscale": {
           "diverging": [
            [
             0,
             "#8e0152"
            ],
            [
             0.1,
             "#c51b7d"
            ],
            [
             0.2,
             "#de77ae"
            ],
            [
             0.3,
             "#f1b6da"
            ],
            [
             0.4,
             "#fde0ef"
            ],
            [
             0.5,
             "#f7f7f7"
            ],
            [
             0.6,
             "#e6f5d0"
            ],
            [
             0.7,
             "#b8e186"
            ],
            [
             0.8,
             "#7fbc41"
            ],
            [
             0.9,
             "#4d9221"
            ],
            [
             1,
             "#276419"
            ]
           ],
           "sequential": [
            [
             0,
             "#0d0887"
            ],
            [
             0.1111111111111111,
             "#46039f"
            ],
            [
             0.2222222222222222,
             "#7201a8"
            ],
            [
             0.3333333333333333,
             "#9c179e"
            ],
            [
             0.4444444444444444,
             "#bd3786"
            ],
            [
             0.5555555555555556,
             "#d8576b"
            ],
            [
             0.6666666666666666,
             "#ed7953"
            ],
            [
             0.7777777777777778,
             "#fb9f3a"
            ],
            [
             0.8888888888888888,
             "#fdca26"
            ],
            [
             1,
             "#f0f921"
            ]
           ],
           "sequentialminus": [
            [
             0,
             "#0d0887"
            ],
            [
             0.1111111111111111,
             "#46039f"
            ],
            [
             0.2222222222222222,
             "#7201a8"
            ],
            [
             0.3333333333333333,
             "#9c179e"
            ],
            [
             0.4444444444444444,
             "#bd3786"
            ],
            [
             0.5555555555555556,
             "#d8576b"
            ],
            [
             0.6666666666666666,
             "#ed7953"
            ],
            [
             0.7777777777777778,
             "#fb9f3a"
            ],
            [
             0.8888888888888888,
             "#fdca26"
            ],
            [
             1,
             "#f0f921"
            ]
           ]
          },
          "colorway": [
           "#636efa",
           "#EF553B",
           "#00cc96",
           "#ab63fa",
           "#FFA15A",
           "#19d3f3",
           "#FF6692",
           "#B6E880",
           "#FF97FF",
           "#FECB52"
          ],
          "font": {
           "color": "#2a3f5f"
          },
          "geo": {
           "bgcolor": "white",
           "lakecolor": "white",
           "landcolor": "#E5ECF6",
           "showlakes": true,
           "showland": true,
           "subunitcolor": "white"
          },
          "hoverlabel": {
           "align": "left"
          },
          "hovermode": "closest",
          "mapbox": {
           "style": "light"
          },
          "paper_bgcolor": "white",
          "plot_bgcolor": "#E5ECF6",
          "polar": {
           "angularaxis": {
            "gridcolor": "white",
            "linecolor": "white",
            "ticks": ""
           },
           "bgcolor": "#E5ECF6",
           "radialaxis": {
            "gridcolor": "white",
            "linecolor": "white",
            "ticks": ""
           }
          },
          "scene": {
           "xaxis": {
            "backgroundcolor": "#E5ECF6",
            "gridcolor": "white",
            "gridwidth": 2,
            "linecolor": "white",
            "showbackground": true,
            "ticks": "",
            "zerolinecolor": "white"
           },
           "yaxis": {
            "backgroundcolor": "#E5ECF6",
            "gridcolor": "white",
            "gridwidth": 2,
            "linecolor": "white",
            "showbackground": true,
            "ticks": "",
            "zerolinecolor": "white"
           },
           "zaxis": {
            "backgroundcolor": "#E5ECF6",
            "gridcolor": "white",
            "gridwidth": 2,
            "linecolor": "white",
            "showbackground": true,
            "ticks": "",
            "zerolinecolor": "white"
           }
          },
          "shapedefaults": {
           "line": {
            "color": "#2a3f5f"
           }
          },
          "ternary": {
           "aaxis": {
            "gridcolor": "white",
            "linecolor": "white",
            "ticks": ""
           },
           "baxis": {
            "gridcolor": "white",
            "linecolor": "white",
            "ticks": ""
           },
           "bgcolor": "#E5ECF6",
           "caxis": {
            "gridcolor": "white",
            "linecolor": "white",
            "ticks": ""
           }
          },
          "title": {
           "x": 0.05
          },
          "xaxis": {
           "automargin": true,
           "gridcolor": "white",
           "linecolor": "white",
           "ticks": "",
           "title": {
            "standoff": 15
           },
           "zerolinecolor": "white",
           "zerolinewidth": 2
          },
          "yaxis": {
           "automargin": true,
           "gridcolor": "white",
           "linecolor": "white",
           "ticks": "",
           "title": {
            "standoff": 15
           },
           "zerolinecolor": "white",
           "zerolinewidth": 2
          }
         }
        }
       }
      }
     },
     "metadata": {},
     "output_type": "display_data"
    }
   ],
   "source": [
    "# Load the CSV file\n",
    "data = pd.read_csv(\"training_data/stroke_0_0005.csv\", header = None)  \n",
    "data.columns = ['x', 'y', 'z']\n",
    "\n",
    "# normalisation\n",
    "data = 2 * (data - data.min()) / (data.max() - data.min()) - 1\n",
    "\n",
    "# centroid = data.mean()\n",
    "\n",
    "# Center the trajectory by subtracting the centroid\n",
    "# data = data - centroid\n",
    "\n",
    "window_size = 3\n",
    "#data['x'] = data['x'].rolling(window=window_size, center=True).mean()\n",
    "#data['y'] = data['y'].rolling(window=window_size, center=True).mean()\n",
    "#data['z'] = data['z'].rolling(window=window_size, center=True).mean()\n",
    "\n",
    "data['x'] = savgol_filter(data['x'], window_length=6, polyorder=2)\n",
    "data['y'] = savgol_filter(data['y'], window_length=6, polyorder=2)\n",
    "data['z'] = savgol_filter(data['z'], window_length=6, polyorder=2)\n",
    "\n",
    "colors = data.index\n",
    "x, y, z = data.iloc[:, 0], data.iloc[:, 1], data.iloc[:, 2]\n",
    "\n",
    "fig = go.Figure(data=[go.Scatter3d(\n",
    "    x=x,\n",
    "    y=y,\n",
    "    z=z,\n",
    "    mode='markers',\n",
    "    marker=dict(\n",
    "        size=3,\n",
    "        color=colors,                # set color to an array/list of desired values\n",
    "        colorscale='Plasma',   # choose a colorscale\n",
    "        opacity=0.8\n",
    "    )\n",
    ")])\n",
    "#purple for starting\n",
    "#yellow for ending\n",
    "\n",
    "# Add the connecting line\n",
    "fig.add_trace(go.Scatter3d(\n",
    "    x=x,\n",
    "    y=y,\n",
    "    z=z,\n",
    "    mode='lines',               # Connect the points with lines\n",
    "    line=dict(\n",
    "        color='gray',           # Set line color\n",
    "        width=1                # Thin line\n",
    "    ),\n",
    "    name='Connecting Line'\n",
    "))\n",
    "\n",
    "# tight layout\n",
    "fig.update_layout(margin=dict(l=0, r=0, b=0, t=0))\n",
    "fig.show()"
   ]
  },
  {
   "cell_type": "code",
   "execution_count": 66,
   "metadata": {},
   "outputs": [
    {
     "name": "stdout",
     "output_type": "stream",
     "text": [
      "Bounding Box Dimensions: \n",
      "Width: 30\n",
      "Height: 35\n",
      "Depth: 30\n",
      "Aspect Ratio (XY): 0.8571428571428571\n",
      "Aspect Ratio (YZ): 1.1666666666666667\n"
     ]
    },
    {
     "data": {
      "image/png": "[encoded data removed]",
      "text/plain": [
       "<Figure size 640x480 with 1 Axes>"
      ]
     },
     "metadata": {},
     "output_type": "display_data"
    }
   ],
   "source": [
    "import numpy as np\n",
    "import matplotlib.pyplot as plt\n",
    "from mpl_toolkits.mplot3d import Axes3D\n",
    "\n",
    "# Example trajectory (x, y, z coordinates)\n",
    "points = np.array([\n",
    "    [-10, -20, -30],\n",
    "    [-5, -10, -25],\n",
    "    [0, -5, -20],\n",
    "    [5, 0, -15],\n",
    "    [10, 5, -10],\n",
    "    [15, 10, -5],\n",
    "    [20, 15, 0]\n",
    "])\n",
    "\n",
    "# Extract the bounding box dimensions\n",
    "x_min, x_max = points[:, 0].min(), points[:, 0].max()\n",
    "y_min, y_max = points[:, 1].min(), points[:, 1].max()\n",
    "z_min, z_max = points[:, 2].min(), points[:, 2].max()\n",
    "\n",
    "# Bounding box dimensions\n",
    "width = x_max - x_min\n",
    "height = y_max - y_min\n",
    "depth = z_max - z_min\n",
    "\n",
    "# Aspect ratio (width/height or height/depth, depending on context)\n",
    "aspect_ratio_xy = width / height if height != 0 else 0\n",
    "aspect_ratio_yz = height / depth if depth != 0 else 0\n",
    "\n",
    "# Output the bounding box features\n",
    "print(f\"Bounding Box Dimensions: \")\n",
    "print(f\"Width: {width}\")\n",
    "print(f\"Height: {height}\")\n",
    "print(f\"Depth: {depth}\")\n",
    "print(f\"Aspect Ratio (XY): {aspect_ratio_xy}\")\n",
    "print(f\"Aspect Ratio (YZ): {aspect_ratio_yz}\")\n",
    "\n",
    "# Visualization\n",
    "fig = plt.figure()\n",
    "ax = fig.add_subplot(111, projection='3d')\n",
    "ax.scatter(points[:, 0], points[:, 1], points[:, 2], color='r', label='Trajectory')\n",
    "\n",
    "# Plot bounding box (min-max values)\n",
    "ax.scatter([x_min, x_max], [y_min, y_max], [z_min, z_max], color='b', label='Bounding Box', s=100)\n",
    "\n",
    "ax.set_xlabel('X axis')\n",
    "ax.set_ylabel('Y axis')\n",
    "ax.set_zlabel('Z axis')\n",
    "\n",
    "plt.legend()\n",
    "plt.show()\n"
   ]
  }
 ],
 "metadata": {
  "kernelspec": {
   "display_name": "Python 3",
   "language": "python",
   "name": "python3"
  },
  "language_info": {
   "codemirror_mode": {
    "name": "ipython",
    "version": 3
   },
   "file_extension": ".py",
   "mimetype": "text/x-python",
   "name": "python",
   "nbconvert_exporter": "python",
   "pygments_lexer": "ipython3",
   "version": "3.9.6"
  }
 },
 "nbformat": 4,
 "nbformat_minor": 2
}
